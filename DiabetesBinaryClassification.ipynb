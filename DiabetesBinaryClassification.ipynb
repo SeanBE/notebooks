{
 "cells": [
  {
   "cell_type": "markdown",
   "metadata": {},
   "source": [
    "# Binary Classification using Pima Indians Diabetes Database"
   ]
  },
  {
   "cell_type": "code",
   "execution_count": 12,
   "metadata": {
    "collapsed": false
   },
   "outputs": [],
   "source": [
    "%matplotlib inline\n",
    "\n",
    "import numpy as np\n",
    "import pandas as pd\n",
    "import seaborn as sns\n",
    "import matplotlib.pyplot as plt\n",
    "\n",
    "from sklearn.cross_validation import train_test_split, StratifiedKFold, cross_val_score\n",
    "from sklearn.preprocessing import StandardScaler\n",
    "from sklearn.metrics import accuracy_score, classification_report, confusion_matrix\n",
    "from sklearn.grid_search import GridSearchCV\n",
    "\n",
    "from sklearn.linear_model import LogisticRegressionCV, PassiveAggressiveClassifier, LogisticRegression\n",
    "from sklearn.neighbors import KNeighborsClassifier\n",
    "from sklearn.ensemble import RandomForestClassifier, GradientBoostingClassifier\n",
    "from sklearn.svm import SVC"
   ]
  },
  {
   "cell_type": "code",
   "execution_count": 2,
   "metadata": {
    "collapsed": true
   },
   "outputs": [],
   "source": [
    "attributes = [\n",
    "    \"Pregnancies\", # Number of times pregnant\n",
    "    \"PlasmaGlucose\", # Plasma Glucose Concentration in 2hr oral glucose tolerance test\n",
    "    \"DiastolicBloodPressure\", # Diastolic blood pressure (mm Hg)\n",
    "    \"TricepSkinFoldThickness\", # Triceps skin fold thickness (mm)\n",
    "    \"SerumInsulin\", # 2-Hour serum insulin (mu U/ml)\n",
    "    \"BMI\", # Body mass index (weight in kg/(height in m)^2)\n",
    "    \"DiabetesPedigree\", # Diabetes pedigree function\n",
    "    \"Age\", # Age (years)\n",
    "    \"Target\" # Negative or Positive for diabetes (0 or 1)\n",
    "]\n",
    "\n",
    "fileName = \"data/pima-indians-diabetes/pima-indians-diabetes.data\"\n",
    "df = pd.read_csv(fileName, names=attributes)"
   ]
  },
  {
   "cell_type": "markdown",
   "metadata": {},
   "source": [
    "## Data Exploration\n",
    "\n",
    "Let's have a peak!"
   ]
  },
  {
   "cell_type": "code",
   "execution_count": 3,
   "metadata": {
    "collapsed": false
   },
   "outputs": [
    {
     "data": {
      "text/html": [
       "<div>\n",
       "<table border=\"1\" class=\"dataframe\">\n",
       "  <thead>\n",
       "    <tr style=\"text-align: right;\">\n",
       "      <th></th>\n",
       "      <th>Pregnancies</th>\n",
       "      <th>PlasmaGlucose</th>\n",
       "      <th>DiastolicBloodPressure</th>\n",
       "      <th>TricepSkinFoldThickness</th>\n",
       "      <th>SerumInsulin</th>\n",
       "      <th>BMI</th>\n",
       "      <th>DiabetesPedigree</th>\n",
       "      <th>Age</th>\n",
       "      <th>Target</th>\n",
       "    </tr>\n",
       "  </thead>\n",
       "  <tbody>\n",
       "    <tr>\n",
       "      <th>0</th>\n",
       "      <td>6</td>\n",
       "      <td>148</td>\n",
       "      <td>72</td>\n",
       "      <td>35</td>\n",
       "      <td>0</td>\n",
       "      <td>33.6</td>\n",
       "      <td>0.627</td>\n",
       "      <td>50</td>\n",
       "      <td>1</td>\n",
       "    </tr>\n",
       "    <tr>\n",
       "      <th>1</th>\n",
       "      <td>1</td>\n",
       "      <td>85</td>\n",
       "      <td>66</td>\n",
       "      <td>29</td>\n",
       "      <td>0</td>\n",
       "      <td>26.6</td>\n",
       "      <td>0.351</td>\n",
       "      <td>31</td>\n",
       "      <td>0</td>\n",
       "    </tr>\n",
       "    <tr>\n",
       "      <th>2</th>\n",
       "      <td>8</td>\n",
       "      <td>183</td>\n",
       "      <td>64</td>\n",
       "      <td>0</td>\n",
       "      <td>0</td>\n",
       "      <td>23.3</td>\n",
       "      <td>0.672</td>\n",
       "      <td>32</td>\n",
       "      <td>1</td>\n",
       "    </tr>\n",
       "    <tr>\n",
       "      <th>3</th>\n",
       "      <td>1</td>\n",
       "      <td>89</td>\n",
       "      <td>66</td>\n",
       "      <td>23</td>\n",
       "      <td>94</td>\n",
       "      <td>28.1</td>\n",
       "      <td>0.167</td>\n",
       "      <td>21</td>\n",
       "      <td>0</td>\n",
       "    </tr>\n",
       "    <tr>\n",
       "      <th>4</th>\n",
       "      <td>0</td>\n",
       "      <td>137</td>\n",
       "      <td>40</td>\n",
       "      <td>35</td>\n",
       "      <td>168</td>\n",
       "      <td>43.1</td>\n",
       "      <td>2.288</td>\n",
       "      <td>33</td>\n",
       "      <td>1</td>\n",
       "    </tr>\n",
       "  </tbody>\n",
       "</table>\n",
       "</div>"
      ],
      "text/plain": [
       "   Pregnancies  PlasmaGlucose  DiastolicBloodPressure  \\\n",
       "0            6            148                      72   \n",
       "1            1             85                      66   \n",
       "2            8            183                      64   \n",
       "3            1             89                      66   \n",
       "4            0            137                      40   \n",
       "\n",
       "   TricepSkinFoldThickness  SerumInsulin   BMI  DiabetesPedigree  Age  Target  \n",
       "0                       35             0  33.6             0.627   50       1  \n",
       "1                       29             0  26.6             0.351   31       0  \n",
       "2                        0             0  23.3             0.672   32       1  \n",
       "3                       23            94  28.1             0.167   21       0  \n",
       "4                       35           168  43.1             2.288   33       1  "
      ]
     },
     "execution_count": 3,
     "metadata": {},
     "output_type": "execute_result"
    }
   ],
   "source": [
    "df.head()"
   ]
  },
  {
   "cell_type": "code",
   "execution_count": 4,
   "metadata": {
    "collapsed": false
   },
   "outputs": [
    {
     "name": "stdout",
     "output_type": "stream",
     "text": [
      "<class 'pandas.core.frame.DataFrame'>\n",
      "Int64Index: 768 entries, 0 to 767\n",
      "Data columns (total 9 columns):\n",
      "Pregnancies                768 non-null int64\n",
      "PlasmaGlucose              768 non-null int64\n",
      "DiastolicBloodPressure     768 non-null int64\n",
      "TricepSkinFoldThickness    768 non-null int64\n",
      "SerumInsulin               768 non-null int64\n",
      "BMI                        768 non-null float64\n",
      "DiabetesPedigree           768 non-null float64\n",
      "Age                        768 non-null int64\n",
      "Target                     768 non-null int64\n",
      "dtypes: float64(2), int64(7)\n",
      "memory usage: 60.0 KB\n"
     ]
    }
   ],
   "source": [
    "df.info()"
   ]
  },
  {
   "cell_type": "markdown",
   "metadata": {},
   "source": [
    "Since this dataset has come from the UCI Machine Learning Repository, you can see that it is quite clean (no missing values etc.)"
   ]
  },
  {
   "cell_type": "code",
   "execution_count": 5,
   "metadata": {
    "collapsed": false
   },
   "outputs": [
    {
     "data": {
      "text/html": [
       "<div>\n",
       "<table border=\"1\" class=\"dataframe\">\n",
       "  <thead>\n",
       "    <tr style=\"text-align: right;\">\n",
       "      <th></th>\n",
       "      <th>Pregnancies</th>\n",
       "      <th>PlasmaGlucose</th>\n",
       "      <th>DiastolicBloodPressure</th>\n",
       "      <th>TricepSkinFoldThickness</th>\n",
       "      <th>SerumInsulin</th>\n",
       "      <th>BMI</th>\n",
       "      <th>DiabetesPedigree</th>\n",
       "      <th>Age</th>\n",
       "      <th>Target</th>\n",
       "    </tr>\n",
       "  </thead>\n",
       "  <tbody>\n",
       "    <tr>\n",
       "      <th>count</th>\n",
       "      <td>768.000000</td>\n",
       "      <td>768.000000</td>\n",
       "      <td>768.000000</td>\n",
       "      <td>768.000000</td>\n",
       "      <td>768.000000</td>\n",
       "      <td>768.000000</td>\n",
       "      <td>768.000000</td>\n",
       "      <td>768.000000</td>\n",
       "      <td>768.000000</td>\n",
       "    </tr>\n",
       "    <tr>\n",
       "      <th>mean</th>\n",
       "      <td>3.845052</td>\n",
       "      <td>120.894531</td>\n",
       "      <td>69.105469</td>\n",
       "      <td>20.536458</td>\n",
       "      <td>79.799479</td>\n",
       "      <td>31.992578</td>\n",
       "      <td>0.471876</td>\n",
       "      <td>33.240885</td>\n",
       "      <td>0.348958</td>\n",
       "    </tr>\n",
       "    <tr>\n",
       "      <th>std</th>\n",
       "      <td>3.369578</td>\n",
       "      <td>31.972618</td>\n",
       "      <td>19.355807</td>\n",
       "      <td>15.952218</td>\n",
       "      <td>115.244002</td>\n",
       "      <td>7.884160</td>\n",
       "      <td>0.331329</td>\n",
       "      <td>11.760232</td>\n",
       "      <td>0.476951</td>\n",
       "    </tr>\n",
       "    <tr>\n",
       "      <th>min</th>\n",
       "      <td>0.000000</td>\n",
       "      <td>0.000000</td>\n",
       "      <td>0.000000</td>\n",
       "      <td>0.000000</td>\n",
       "      <td>0.000000</td>\n",
       "      <td>0.000000</td>\n",
       "      <td>0.078000</td>\n",
       "      <td>21.000000</td>\n",
       "      <td>0.000000</td>\n",
       "    </tr>\n",
       "    <tr>\n",
       "      <th>25%</th>\n",
       "      <td>1.000000</td>\n",
       "      <td>99.000000</td>\n",
       "      <td>62.000000</td>\n",
       "      <td>0.000000</td>\n",
       "      <td>0.000000</td>\n",
       "      <td>27.300000</td>\n",
       "      <td>0.243750</td>\n",
       "      <td>24.000000</td>\n",
       "      <td>0.000000</td>\n",
       "    </tr>\n",
       "    <tr>\n",
       "      <th>50%</th>\n",
       "      <td>3.000000</td>\n",
       "      <td>117.000000</td>\n",
       "      <td>72.000000</td>\n",
       "      <td>23.000000</td>\n",
       "      <td>30.500000</td>\n",
       "      <td>32.000000</td>\n",
       "      <td>0.372500</td>\n",
       "      <td>29.000000</td>\n",
       "      <td>0.000000</td>\n",
       "    </tr>\n",
       "    <tr>\n",
       "      <th>75%</th>\n",
       "      <td>6.000000</td>\n",
       "      <td>140.250000</td>\n",
       "      <td>80.000000</td>\n",
       "      <td>32.000000</td>\n",
       "      <td>127.250000</td>\n",
       "      <td>36.600000</td>\n",
       "      <td>0.626250</td>\n",
       "      <td>41.000000</td>\n",
       "      <td>1.000000</td>\n",
       "    </tr>\n",
       "    <tr>\n",
       "      <th>max</th>\n",
       "      <td>17.000000</td>\n",
       "      <td>199.000000</td>\n",
       "      <td>122.000000</td>\n",
       "      <td>99.000000</td>\n",
       "      <td>846.000000</td>\n",
       "      <td>67.100000</td>\n",
       "      <td>2.420000</td>\n",
       "      <td>81.000000</td>\n",
       "      <td>1.000000</td>\n",
       "    </tr>\n",
       "  </tbody>\n",
       "</table>\n",
       "</div>"
      ],
      "text/plain": [
       "       Pregnancies  PlasmaGlucose  DiastolicBloodPressure  \\\n",
       "count   768.000000     768.000000              768.000000   \n",
       "mean      3.845052     120.894531               69.105469   \n",
       "std       3.369578      31.972618               19.355807   \n",
       "min       0.000000       0.000000                0.000000   \n",
       "25%       1.000000      99.000000               62.000000   \n",
       "50%       3.000000     117.000000               72.000000   \n",
       "75%       6.000000     140.250000               80.000000   \n",
       "max      17.000000     199.000000              122.000000   \n",
       "\n",
       "       TricepSkinFoldThickness  SerumInsulin         BMI  DiabetesPedigree  \\\n",
       "count               768.000000    768.000000  768.000000        768.000000   \n",
       "mean                 20.536458     79.799479   31.992578          0.471876   \n",
       "std                  15.952218    115.244002    7.884160          0.331329   \n",
       "min                   0.000000      0.000000    0.000000          0.078000   \n",
       "25%                   0.000000      0.000000   27.300000          0.243750   \n",
       "50%                  23.000000     30.500000   32.000000          0.372500   \n",
       "75%                  32.000000    127.250000   36.600000          0.626250   \n",
       "max                  99.000000    846.000000   67.100000          2.420000   \n",
       "\n",
       "              Age      Target  \n",
       "count  768.000000  768.000000  \n",
       "mean    33.240885    0.348958  \n",
       "std     11.760232    0.476951  \n",
       "min     21.000000    0.000000  \n",
       "25%     24.000000    0.000000  \n",
       "50%     29.000000    0.000000  \n",
       "75%     41.000000    1.000000  \n",
       "max     81.000000    1.000000  "
      ]
     },
     "execution_count": 5,
     "metadata": {},
     "output_type": "execute_result"
    }
   ],
   "source": [
    "df.describe()"
   ]
  },
  {
   "cell_type": "markdown",
   "metadata": {},
   "source": [
    "No text! Just discrete and continous values."
   ]
  },
  {
   "cell_type": "code",
   "execution_count": 6,
   "metadata": {
    "collapsed": false
   },
   "outputs": [
    {
     "data": {
      "text/plain": [
       "'500 patients that tested positive and 268 that tested negative.'"
      ]
     },
     "execution_count": 6,
     "metadata": {},
     "output_type": "execute_result"
    }
   ],
   "source": [
    "classCounts = pd.value_counts(df.Target.values, sort=False)\n",
    "\n",
    "'{} patients that tested positive and {} that tested negative.'.format(classCounts[0], classCounts[1])"
   ]
  },
  {
   "cell_type": "markdown",
   "metadata": {},
   "source": [
    "Our labels are quite unbalanced (i.e. nearly 2 to 1). Luckily, there are more negatively tested labels than positive...\n",
    "\n",
    "### Time to play with some graphs!"
   ]
  },
  {
   "cell_type": "code",
   "execution_count": 7,
   "metadata": {
    "collapsed": false
   },
   "outputs": [
    {
     "data": {
      "text/plain": [
       "<matplotlib.legend.Legend at 0x112d51590>"
      ]
     },
     "execution_count": 7,
     "metadata": {},
     "output_type": "execute_result"
    },
    {
     "data": {
      "image/png": "[encoded data removed]",
      "text/plain": [
       "<matplotlib.figure.Figure at 0x10d9ecad0>"
      ]
     },
     "metadata": {},
     "output_type": "display_data"
    }
   ],
   "source": [
    "fig = plt.figure(figsize=(18,6), dpi=1600) \n",
    "alpha=alpha_scatterplot = 0.2 \n",
    "alpha_bar_chart = 0.55\n",
    "\n",
    "ax1 = plt.subplot2grid((2,3),(0,0))\n",
    "df.Target.value_counts().plot(kind='bar', alpha=alpha_bar_chart)\n",
    "ax1.set_xlim(-1, 2)\n",
    "plt.title(\"Distribution of Labels, (1 = Positive for Diabetes)\")    \n",
    "\n",
    "plt.subplot2grid((2,3),(0,1))\n",
    "plt.scatter(df.Target, df.Age, alpha=alpha_scatterplot)\n",
    "plt.ylabel(\"Age\")\n",
    "plt.grid(b=True, which='major', axis='y')  \n",
    "plt.title(\"Diabetes by Age\")\n",
    "\n",
    "ax3 = plt.subplot2grid((2,3),(0,2))\n",
    "df.Pregnancies.value_counts().plot(kind=\"barh\", alpha=alpha_bar_chart)\n",
    "ax3.set_ylim(-1, len(df.Pregnancies.value_counts()))\n",
    "plt.title(\"Pregnancies\")\n",
    "\n",
    "plt.subplot2grid((2,3),(1,0), colspan=3)\n",
    "df.Age[df.Target == 0].plot(kind='kde')    \n",
    "df.Age[df.Target == 1].plot(kind='kde')\n",
    "plt.xlabel(\"Age\")    \n",
    "plt.title(\"Age Distribution\")\n",
    "plt.legend(('Negative Test', 'Positive Test'),loc='best') "
   ]
  },
  {
   "cell_type": "code",
   "execution_count": 8,
   "metadata": {
    "collapsed": false
   },
   "outputs": [
    {
     "name": "stdout",
     "output_type": "stream",
     "text": [
      "(768, 8)\n",
      "(768,)\n"
     ]
    }
   ],
   "source": [
    "# Time to convert our pandas into numpy arrays.\n",
    "\n",
    "features = df.drop([\"Target\"], axis=1).as_matrix()\n",
    "print features.shape\n",
    "\n",
    "labels = df.Target.values\n",
    "print labels.shape"
   ]
  },
  {
   "cell_type": "code",
   "execution_count": 9,
   "metadata": {
    "collapsed": false
   },
   "outputs": [],
   "source": [
    "# Removing mean and dividing the standard deviation of features respectively.\n",
    "scaler = StandardScaler()\n",
    "features = scaler.fit_transform(features)"
   ]
  },
  {
   "cell_type": "markdown",
   "metadata": {},
   "source": [
    "## Modelling time"
   ]
  },
  {
   "cell_type": "code",
   "execution_count": 10,
   "metadata": {
    "collapsed": false
   },
   "outputs": [],
   "source": [
    "# We don't have a test set so time to create one (75% train 25% test)\n",
    "xTrain, xTest, yTrain, yTest = train_test_split(features, labels, test_size = 0.25)\n",
    "\n",
    "# Stratified K Fold for unbalanced classes.\n",
    "stratifiedKFold = StratifiedKFold(yTrain, n_folds=5, shuffle=True)"
   ]
  },
  {
   "cell_type": "code",
   "execution_count": 16,
   "metadata": {
    "collapsed": false
   },
   "outputs": [
    {
     "name": "stdout",
     "output_type": "stream",
     "text": [
      "Accuracy Score using Logistic Regression: 0.776041666667\n",
      "\n",
      "SVM classification report: \n",
      "              precision    recall  f1-score   support\n",
      "\n",
      "Negative (0)       0.82      0.85      0.84       129\n",
      "Positive (1)       0.67      0.62      0.64        63\n",
      "\n",
      " avg / total       0.77      0.78      0.77       192\n",
      "\n",
      "\n",
      "SVM confusion matrix: \n"
     ]
    },
    {
     "data": {
      "text/plain": [
       "<matplotlib.axes._subplots.AxesSubplot at 0x113016390>"
      ]
     },
     "execution_count": 16,
     "metadata": {},
     "output_type": "execute_result"
    },
    {
     "data": {
      "image/png": "[encoded data removed]",
      "text/plain": [
       "<matplotlib.figure.Figure at 0x112ff5d10>"
      ]
     },
     "metadata": {},
     "output_type": "display_data"
    }
   ],
   "source": [
    "# Logistic Regression \n",
    "\n",
    "clf = LogisticRegressionCV(cv=stratifiedKFold)\n",
    "clf.fit(xTrain, yTrain)\n",
    "\n",
    "yPredictions = clf.predict(xTest)\n",
    "print 'Accuracy Score using Logistic Regression: {}'.format(accuracy_score(yTest, yPredictions))\n",
    "\n",
    "print \"\\nSVM classification report: \"\n",
    "print(classification_report(yTest, yPredictions, target_names=['Negative (0)', 'Positive (1)']))\n",
    "\n",
    "print \"\\nSVM confusion matrix: \"\n",
    "sns.heatmap(confusion_matrix(yPredictions, yTest), an)"
   ]
  },
  {
   "cell_type": "code",
   "execution_count": 33,
   "metadata": {
    "collapsed": false
   },
   "outputs": [
    {
     "data": {
      "text/plain": [
       "\"Accuracy using 'Every label = 0' Classifier: 0.661458333333\""
      ]
     },
     "execution_count": 33,
     "metadata": {},
     "output_type": "execute_result"
    }
   ],
   "source": [
    "# Predict every test instance with label 0 (negative for diabetes)\n",
    "'Accuracy using \\'Every label = 0\\' Classifier: {}'.format(accuracy_score(yTest, [0]*len(yTest)))"
   ]
  },
  {
   "cell_type": "code",
   "execution_count": 34,
   "metadata": {
    "collapsed": false
   },
   "outputs": [
    {
     "name": "stdout",
     "output_type": "stream",
     "text": [
      "best k =  3\n"
     ]
    },
    {
     "data": {
      "text/plain": [
       "'Accuracy using KNN Classifer: 0.744791666667'"
      ]
     },
     "execution_count": 34,
     "metadata": {},
     "output_type": "execute_result"
    }
   ],
   "source": [
    "# K Nearest Neighbor Classifier using GridSearch\n",
    "\n",
    "params = {'n_neighbors': [1,3,6]}\n",
    "knn = KNeighborsClassifier()\n",
    "\n",
    "clf = GridSearchCV(knn, params, cv=stratifiedKFold, refit=True)\n",
    "clf.fit(xTrain, yTrain)\n",
    "\n",
    "print 'best k = ', clf.best_params_.get('n_neighbors')\n",
    "\n",
    "yPredictions = clf.predict(xTest)\n",
    "'Accuracy using KNN Classifer: {}'.format(accuracy_score(yTest, yPredictions))"
   ]
  },
  {
   "cell_type": "code",
   "execution_count": 64,
   "metadata": {
    "collapsed": false
   },
   "outputs": [
    {
     "data": {
      "text/plain": [
       "'Accuracy using Support vector machine: 0.744791666667'"
      ]
     },
     "execution_count": 64,
     "metadata": {},
     "output_type": "execute_result"
    }
   ],
   "source": [
    "# Support vector machine(SVM)\n",
    "\n",
    "clf = SVC(kernel='poly', class_weight='balanced',C=1)\n",
    "clf.fit(xTrain, yTrain)\n",
    "\n",
    "yPredictions = clf.predict(xTest)\n",
    "'Accuracy using Support vector machine: {}'.format(accuracy_score(yTest, yPredictions))"
   ]
  },
  {
   "cell_type": "code",
   "execution_count": 37,
   "metadata": {
    "collapsed": false
   },
   "outputs": [
    {
     "data": {
      "text/plain": [
       "'Accuracy using Random Forests: 0.802083333333'"
      ]
     },
     "execution_count": 37,
     "metadata": {},
     "output_type": "execute_result"
    }
   ],
   "source": [
    "# Random Forest Classifier\n",
    "\n",
    "clf = RandomForestClassifier(class_weight='balanced', n_estimators=1000)\n",
    "clf.fit(xTrain, yTrain)\n",
    "\n",
    "yPredictions = clf.predict(xTest)\n",
    "'Accuracy using Random Forests: {}'.format(accuracy_score(yTest, yPredictions))"
   ]
  },
  {
   "cell_type": "code",
   "execution_count": 57,
   "metadata": {
    "collapsed": false
   },
   "outputs": [
    {
     "data": {
      "text/plain": [
       "<matplotlib.text.Text at 0x115856690>"
      ]
     },
     "execution_count": 57,
     "metadata": {},
     "output_type": "execute_result"
    },
    {
     "data": {
      "image/png": "[encoded data removed]",
      "text/plain": [
       "<matplotlib.figure.Figure at 0x1144c6990>"
      ]
     },
     "metadata": {},
     "output_type": "display_data"
    }
   ],
   "source": [
    "# Random Forest Classifier using cross validation\n",
    "\n",
    "cvScores = []\n",
    "\n",
    "estimators = range(10,1200,100)\n",
    "\n",
    "for e in estimators:\n",
    "    clf = RandomForestClassifier(class_weight='balanced', n_estimators=e)\n",
    "    cvScores.append(cross_val_score(clf, xTrain, yTrain, cv=5))\n",
    "\n",
    "    \n",
    "sns.boxplot(x=estimators,y=cvScores)\n",
    "plt.xlabel('Number of estimators')\n",
    "plt.ylabel('Classification score')"
   ]
  },
  {
   "cell_type": "code",
   "execution_count": null,
   "metadata": {
    "collapsed": false
   },
   "outputs": [],
   "source": [
    "# Support vector machine(SVM) using GridSearch\n",
    "\n",
    "params = {'C': [0.01, 0.1, 1.0, 10.0, 100.0], \n",
    "          'gamma': [0.01, 0.1, 1.0, 10.0, 100.0]}\n",
    "\n",
    "\n",
    "svc = SVC(kernel='poly', class_weight='balanced',random_state=27)\n",
    "\n",
    "clf = GridSearchCV(svc, params, cv=stratifiedKFold, refit=True, scoring='accuracy', n_jobs=-2)\n",
    "clf.fit(xTrain, yTrain)\n",
    "\n",
    "print clf.best_params_\n",
    "\n",
    "yPredictions = clf.predict(xTest)\n",
    "'Accuracy using Support vector machine: {}'.format(accuracy_score(yTest, yPredictions))"
   ]
  }
 ],
 "metadata": {
  "kernelspec": {
   "display_name": "Python 2",
   "language": "python",
   "name": "python2"
  },
  "language_info": {
   "codemirror_mode": {
    "name": "ipython",
    "version": 2
   },
   "file_extension": ".py",
   "mimetype": "text/x-python",
   "name": "python",
   "nbconvert_exporter": "python",
   "pygments_lexer": "ipython2",
   "version": "2.7.11"
  }
 },
 "nbformat": 4,
 "nbformat_minor": 0
}
